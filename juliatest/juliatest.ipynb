{
  "cells": [
    {
      "cell_type": "raw",
      "metadata": {},
      "source": [
        "---\n",
        "title: Plots Demo\n",
        "author: Norah Jones\n",
        "date: 5/22/2021\n",
        "format:\n",
        "  html:\n",
        "    code-fold: true\n",
        "---"
      ],
      "id": "8df991b6"
    },
    {
      "cell_type": "markdown",
      "metadata": {},
      "source": [
        "### Parametric Plots\n",
        "\n",
        "Plot function pair (x(u), y(u)). \n",
        "See @fig-parametric for an example.\n"
      ],
      "id": "62d1fb12"
    },
    {
      "cell_type": "code",
      "metadata": {},
      "source": [
        "#| label: fig-parametric\n",
        "#| fig-cap: Parametric Plots\n",
        "\n",
        "using Plots\n",
        "\n",
        "plot(sin, \n",
        "     x->sin(2x), \n",
        "     0, \n",
        "     2π, \n",
        "     leg=false, \n",
        "     fill=(0,:lavender))"
      ],
      "id": "fig-parametric",
      "execution_count": null,
      "outputs": []
    }
  ],
  "metadata": {
    "kernelspec": {
      "name": "julia-1.8",
      "language": "julia",
      "display_name": "Julia 1.8.5"
    }
  },
  "nbformat": 4,
  "nbformat_minor": 5
}